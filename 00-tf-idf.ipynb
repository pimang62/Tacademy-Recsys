{
 "cells": [
  {
   "cell_type": "markdown",
   "metadata": {
    "papermill": {
     "duration": 0.011806,
     "end_time": "2023-09-01T01:12:40.555744",
     "exception": false,
     "start_time": "2023-09-01T01:12:40.543938",
     "status": "completed"
    },
    "tags": []
   },
   "source": [
    "## TF-IDF 알고리즘"
   ]
  },
  {
   "cell_type": "code",
   "execution_count": 1,
   "metadata": {
    "execution": {
     "iopub.execute_input": "2023-09-01T01:12:40.575880Z",
     "iopub.status.busy": "2023-09-01T01:12:40.575074Z",
     "iopub.status.idle": "2023-09-01T01:12:40.579755Z",
     "shell.execute_reply": "2023-09-01T01:12:40.580344Z",
     "shell.execute_reply.started": "2023-09-01T00:57:35.847437Z"
    },
    "papermill": {
     "duration": 0.016491,
     "end_time": "2023-09-01T01:12:40.580555",
     "exception": false,
     "start_time": "2023-09-01T01:12:40.564064",
     "status": "completed"
    },
    "tags": []
   },
   "outputs": [],
   "source": [
    "docs = [\n",
    "  '먹고 싶은 사과', # 문서0 \n",
    "  '먹고 싶은 바나나', # 문서1\n",
    "  '길고 노란 바나나 바나나', # 문서2 \n",
    "  '저는 과일이 좋아요' # 문서3 \n",
    "]"
   ]
  },
  {
   "cell_type": "code",
   "execution_count": 2,
   "metadata": {
    "execution": {
     "iopub.execute_input": "2023-09-01T01:12:40.599811Z",
     "iopub.status.busy": "2023-09-01T01:12:40.599040Z",
     "iopub.status.idle": "2023-09-01T01:12:41.612359Z",
     "shell.execute_reply": "2023-09-01T01:12:41.611452Z",
     "shell.execute_reply.started": "2023-09-01T00:58:43.321743Z"
    },
    "papermill": {
     "duration": 1.024159,
     "end_time": "2023-09-01T01:12:41.612499",
     "exception": false,
     "start_time": "2023-09-01T01:12:40.588340",
     "status": "completed"
    },
    "tags": []
   },
   "outputs": [],
   "source": [
    "from sklearn.feature_extraction.text import CountVectorizer\n",
    "vect = CountVectorizer() # Counter Vectorizer 객체 생성 : TF 작업 해줌"
   ]
  },
  {
   "cell_type": "code",
   "execution_count": 3,
   "metadata": {
    "execution": {
     "iopub.execute_input": "2023-09-01T01:12:41.638586Z",
     "iopub.status.busy": "2023-09-01T01:12:41.637710Z",
     "iopub.status.idle": "2023-09-01T01:12:41.646522Z",
     "shell.execute_reply": "2023-09-01T01:12:41.645800Z",
     "shell.execute_reply.started": "2023-09-01T00:59:43.356587Z"
    },
    "papermill": {
     "duration": 0.026197,
     "end_time": "2023-09-01T01:12:41.646660",
     "exception": false,
     "start_time": "2023-09-01T01:12:41.620463",
     "status": "completed"
    },
    "tags": []
   },
   "outputs": [
    {
     "data": {
      "text/plain": [
       "<4x9 sparse matrix of type '<class 'numpy.int64'>'\n",
       "\twith 12 stored elements in Compressed Sparse Row format>"
      ]
     },
     "execution_count": 3,
     "metadata": {},
     "output_type": "execute_result"
    }
   ],
   "source": [
    "# 문장을 Counter Vectorizer 형태로 변형 \n",
    "countvect = vect.fit_transform(docs) \n",
    "countvect # 4x9 : 4개의 문서에 9개의 단어 sparse matrix"
   ]
  },
  {
   "cell_type": "code",
   "execution_count": 4,
   "metadata": {
    "execution": {
     "iopub.execute_input": "2023-09-01T01:12:41.670696Z",
     "iopub.status.busy": "2023-09-01T01:12:41.669600Z",
     "iopub.status.idle": "2023-09-01T01:12:41.673365Z",
     "shell.execute_reply": "2023-09-01T01:12:41.673989Z",
     "shell.execute_reply.started": "2023-09-01T00:59:45.029369Z"
    },
    "papermill": {
     "duration": 0.019084,
     "end_time": "2023-09-01T01:12:41.674153",
     "exception": false,
     "start_time": "2023-09-01T01:12:41.655069",
     "status": "completed"
    },
    "tags": []
   },
   "outputs": [
    {
     "data": {
      "text/plain": [
       "array([[0, 0, 0, 1, 0, 1, 1, 0, 0],\n",
       "       [0, 0, 0, 1, 1, 0, 1, 0, 0],\n",
       "       [0, 1, 1, 0, 2, 0, 0, 0, 0],\n",
       "       [1, 0, 0, 0, 0, 0, 0, 1, 1]])"
      ]
     },
     "execution_count": 4,
     "metadata": {},
     "output_type": "execute_result"
    }
   ],
   "source": [
    "# toarray()를 통해서 문장이 Vector 형태의 값을 얻을 수 있음 \n",
    "# 하지만, 각 인덱스와 컬럼이 무엇을 의미하는지에 대해서는 알 수가 없음 \n",
    "countvect.toarray()"
   ]
  },
  {
   "cell_type": "code",
   "execution_count": 5,
   "metadata": {
    "execution": {
     "iopub.execute_input": "2023-09-01T01:12:41.696840Z",
     "iopub.status.busy": "2023-09-01T01:12:41.695597Z",
     "iopub.status.idle": "2023-09-01T01:12:41.700239Z",
     "shell.execute_reply": "2023-09-01T01:12:41.699608Z",
     "shell.execute_reply.started": "2023-09-01T00:59:57.751919Z"
    },
    "papermill": {
     "duration": 0.018331,
     "end_time": "2023-09-01T01:12:41.700385",
     "exception": false,
     "start_time": "2023-09-01T01:12:41.682054",
     "status": "completed"
    },
    "tags": []
   },
   "outputs": [
    {
     "data": {
      "text/plain": [
       "{'먹고': 3,\n",
       " '싶은': 6,\n",
       " '사과': 5,\n",
       " '바나나': 4,\n",
       " '길고': 1,\n",
       " '노란': 2,\n",
       " '저는': 7,\n",
       " '과일이': 0,\n",
       " '좋아요': 8}"
      ]
     },
     "execution_count": 5,
     "metadata": {},
     "output_type": "execute_result"
    }
   ],
   "source": [
    "vect.vocabulary_"
   ]
  },
  {
   "cell_type": "code",
   "execution_count": 6,
   "metadata": {
    "execution": {
     "iopub.execute_input": "2023-09-01T01:12:41.723111Z",
     "iopub.status.busy": "2023-09-01T01:12:41.721939Z",
     "iopub.status.idle": "2023-09-01T01:12:41.726538Z",
     "shell.execute_reply": "2023-09-01T01:12:41.725955Z",
     "shell.execute_reply.started": "2023-09-01T01:02:13.308551Z"
    },
    "papermill": {
     "duration": 0.018358,
     "end_time": "2023-09-01T01:12:41.726670",
     "exception": false,
     "start_time": "2023-09-01T01:12:41.708312",
     "status": "completed"
    },
    "tags": []
   },
   "outputs": [
    {
     "data": {
      "text/plain": [
       "['과일이', '길고', '노란', '먹고', '바나나', '사과', '싶은', '저는', '좋아요']"
      ]
     },
     "execution_count": 6,
     "metadata": {},
     "output_type": "execute_result"
    }
   ],
   "source": [
    "sorted(vect.vocabulary_)  # key 기준 단어 정렬"
   ]
  },
  {
   "cell_type": "code",
   "execution_count": 7,
   "metadata": {
    "execution": {
     "iopub.execute_input": "2023-09-01T01:12:41.755858Z",
     "iopub.status.busy": "2023-09-01T01:12:41.754465Z",
     "iopub.status.idle": "2023-09-01T01:12:41.774153Z",
     "shell.execute_reply": "2023-09-01T01:12:41.773332Z",
     "shell.execute_reply.started": "2023-09-01T01:02:26.668097Z"
    },
    "papermill": {
     "duration": 0.039303,
     "end_time": "2023-09-01T01:12:41.774300",
     "exception": false,
     "start_time": "2023-09-01T01:12:41.734997",
     "status": "completed"
    },
    "tags": []
   },
   "outputs": [
    {
     "data": {
      "text/html": [
       "<div>\n",
       "<style scoped>\n",
       "    .dataframe tbody tr th:only-of-type {\n",
       "        vertical-align: middle;\n",
       "    }\n",
       "\n",
       "    .dataframe tbody tr th {\n",
       "        vertical-align: top;\n",
       "    }\n",
       "\n",
       "    .dataframe thead th {\n",
       "        text-align: right;\n",
       "    }\n",
       "</style>\n",
       "<table border=\"1\" class=\"dataframe\">\n",
       "  <thead>\n",
       "    <tr style=\"text-align: right;\">\n",
       "      <th></th>\n",
       "      <th>과일이</th>\n",
       "      <th>길고</th>\n",
       "      <th>노란</th>\n",
       "      <th>먹고</th>\n",
       "      <th>바나나</th>\n",
       "      <th>사과</th>\n",
       "      <th>싶은</th>\n",
       "      <th>저는</th>\n",
       "      <th>좋아요</th>\n",
       "    </tr>\n",
       "  </thead>\n",
       "  <tbody>\n",
       "    <tr>\n",
       "      <th>문서1</th>\n",
       "      <td>0</td>\n",
       "      <td>0</td>\n",
       "      <td>0</td>\n",
       "      <td>1</td>\n",
       "      <td>0</td>\n",
       "      <td>1</td>\n",
       "      <td>1</td>\n",
       "      <td>0</td>\n",
       "      <td>0</td>\n",
       "    </tr>\n",
       "    <tr>\n",
       "      <th>문서2</th>\n",
       "      <td>0</td>\n",
       "      <td>0</td>\n",
       "      <td>0</td>\n",
       "      <td>1</td>\n",
       "      <td>1</td>\n",
       "      <td>0</td>\n",
       "      <td>1</td>\n",
       "      <td>0</td>\n",
       "      <td>0</td>\n",
       "    </tr>\n",
       "    <tr>\n",
       "      <th>문서3</th>\n",
       "      <td>0</td>\n",
       "      <td>1</td>\n",
       "      <td>1</td>\n",
       "      <td>0</td>\n",
       "      <td>2</td>\n",
       "      <td>0</td>\n",
       "      <td>0</td>\n",
       "      <td>0</td>\n",
       "      <td>0</td>\n",
       "    </tr>\n",
       "    <tr>\n",
       "      <th>문서4</th>\n",
       "      <td>1</td>\n",
       "      <td>0</td>\n",
       "      <td>0</td>\n",
       "      <td>0</td>\n",
       "      <td>0</td>\n",
       "      <td>0</td>\n",
       "      <td>0</td>\n",
       "      <td>1</td>\n",
       "      <td>1</td>\n",
       "    </tr>\n",
       "  </tbody>\n",
       "</table>\n",
       "</div>"
      ],
      "text/plain": [
       "     과일이  길고  노란  먹고  바나나  사과  싶은  저는  좋아요\n",
       "문서1    0   0   0   1    0   1   1   0    0\n",
       "문서2    0   0   0   1    1   0   1   0    0\n",
       "문서3    0   1   1   0    2   0   0   0    0\n",
       "문서4    1   0   0   0    0   0   0   1    1"
      ]
     },
     "execution_count": 7,
     "metadata": {},
     "output_type": "execute_result"
    }
   ],
   "source": [
    "import pandas as pd\n",
    "countvect_df = pd.DataFrame(countvect.toarray(), columns = sorted(vect.vocabulary_))\n",
    "countvect_df.index = ['문서1', '문서2', '문서3', '문서4']\n",
    "countvect_df"
   ]
  },
  {
   "cell_type": "code",
   "execution_count": 8,
   "metadata": {
    "execution": {
     "iopub.execute_input": "2023-09-01T01:12:41.795922Z",
     "iopub.status.busy": "2023-09-01T01:12:41.795063Z",
     "iopub.status.idle": "2023-09-01T01:12:41.882279Z",
     "shell.execute_reply": "2023-09-01T01:12:41.881464Z",
     "shell.execute_reply.started": "2023-09-01T01:02:58.296080Z"
    },
    "papermill": {
     "duration": 0.09901,
     "end_time": "2023-09-01T01:12:41.882413",
     "exception": false,
     "start_time": "2023-09-01T01:12:41.783403",
     "status": "completed"
    },
    "tags": []
   },
   "outputs": [
    {
     "data": {
      "text/plain": [
       "array([[1.        , 0.66666667, 0.        , 0.        ],\n",
       "       [0.66666667, 1.        , 0.47140452, 0.        ],\n",
       "       [0.        , 0.47140452, 1.        , 0.        ],\n",
       "       [0.        , 0.        , 0.        , 1.        ]])"
      ]
     },
     "execution_count": 8,
     "metadata": {},
     "output_type": "execute_result"
    }
   ],
   "source": [
    "# 위의 Data Frame 형태의 유사도를 계산 \n",
    "from sklearn.metrics.pairwise import cosine_similarity\n",
    "cosine_similarity(countvect_df, countvect_df)"
   ]
  },
  {
   "cell_type": "markdown",
   "metadata": {
    "papermill": {
     "duration": 0.008655,
     "end_time": "2023-09-01T01:12:41.900037",
     "exception": false,
     "start_time": "2023-09-01T01:12:41.891382",
     "status": "completed"
    },
    "tags": []
   },
   "source": [
    "0번 문서는 1번, 2번 문서와 3번이 유사하다는 결론을 얻을 수 있음. 동일한 방식으로 TF-IDF를 수행하면 아래와 같음 "
   ]
  },
  {
   "cell_type": "code",
   "execution_count": 9,
   "metadata": {
    "execution": {
     "iopub.execute_input": "2023-09-01T01:12:41.927330Z",
     "iopub.status.busy": "2023-09-01T01:12:41.926471Z",
     "iopub.status.idle": "2023-09-01T01:12:41.928814Z",
     "shell.execute_reply": "2023-09-01T01:12:41.929441Z",
     "shell.execute_reply.started": "2023-09-01T01:07:23.608791Z"
    },
    "papermill": {
     "duration": 0.021033,
     "end_time": "2023-09-01T01:12:41.929598",
     "exception": false,
     "start_time": "2023-09-01T01:12:41.908565",
     "status": "completed"
    },
    "tags": []
   },
   "outputs": [],
   "source": [
    "from sklearn.feature_extraction.text import TfidfVectorizer\n",
    "vect = TfidfVectorizer()\n",
    "tfvect = vect.fit(docs)"
   ]
  },
  {
   "cell_type": "code",
   "execution_count": 10,
   "metadata": {
    "execution": {
     "iopub.execute_input": "2023-09-01T01:12:41.951051Z",
     "iopub.status.busy": "2023-09-01T01:12:41.950267Z",
     "iopub.status.idle": "2023-09-01T01:12:41.962238Z",
     "shell.execute_reply": "2023-09-01T01:12:41.961484Z",
     "shell.execute_reply.started": "2023-09-01T01:07:59.012174Z"
    },
    "papermill": {
     "duration": 0.023776,
     "end_time": "2023-09-01T01:12:41.962366",
     "exception": false,
     "start_time": "2023-09-01T01:12:41.938590",
     "status": "completed"
    },
    "tags": []
   },
   "outputs": [
    {
     "data": {
      "text/plain": [
       "array([[0.        , 0.        , 0.        , 0.52640543, 0.        ,\n",
       "        0.66767854, 0.52640543, 0.        , 0.        ],\n",
       "       [0.        , 0.        , 0.        , 0.57735027, 0.57735027,\n",
       "        0.        , 0.57735027, 0.        , 0.        ],\n",
       "       [0.        , 0.47212003, 0.47212003, 0.        , 0.7444497 ,\n",
       "        0.        , 0.        , 0.        , 0.        ],\n",
       "       [0.57735027, 0.        , 0.        , 0.        , 0.        ,\n",
       "        0.        , 0.        , 0.57735027, 0.57735027]])"
      ]
     },
     "execution_count": 10,
     "metadata": {},
     "output_type": "execute_result"
    }
   ],
   "source": [
    "tfvect.transform(docs).toarray()"
   ]
  },
  {
   "cell_type": "code",
   "execution_count": 11,
   "metadata": {
    "execution": {
     "iopub.execute_input": "2023-09-01T01:12:41.987061Z",
     "iopub.status.busy": "2023-09-01T01:12:41.986281Z",
     "iopub.status.idle": "2023-09-01T01:12:41.990472Z",
     "shell.execute_reply": "2023-09-01T01:12:41.989808Z",
     "shell.execute_reply.started": "2023-09-01T01:08:15.696719Z"
    },
    "papermill": {
     "duration": 0.01903,
     "end_time": "2023-09-01T01:12:41.990608",
     "exception": false,
     "start_time": "2023-09-01T01:12:41.971578",
     "status": "completed"
    },
    "tags": []
   },
   "outputs": [
    {
     "data": {
      "text/plain": [
       "{'먹고': 3,\n",
       " '싶은': 6,\n",
       " '사과': 5,\n",
       " '바나나': 4,\n",
       " '길고': 1,\n",
       " '노란': 2,\n",
       " '저는': 7,\n",
       " '과일이': 0,\n",
       " '좋아요': 8}"
      ]
     },
     "execution_count": 11,
     "metadata": {},
     "output_type": "execute_result"
    }
   ],
   "source": [
    "tfvect.vocabulary_"
   ]
  },
  {
   "cell_type": "code",
   "execution_count": 12,
   "metadata": {
    "execution": {
     "iopub.execute_input": "2023-09-01T01:12:42.030437Z",
     "iopub.status.busy": "2023-09-01T01:12:42.029334Z",
     "iopub.status.idle": "2023-09-01T01:12:42.034609Z",
     "shell.execute_reply": "2023-09-01T01:12:42.033973Z",
     "shell.execute_reply.started": "2023-09-01T01:08:23.643093Z"
    },
    "papermill": {
     "duration": 0.035166,
     "end_time": "2023-09-01T01:12:42.034739",
     "exception": false,
     "start_time": "2023-09-01T01:12:41.999573",
     "status": "completed"
    },
    "tags": []
   },
   "outputs": [
    {
     "data": {
      "text/html": [
       "<div>\n",
       "<style scoped>\n",
       "    .dataframe tbody tr th:only-of-type {\n",
       "        vertical-align: middle;\n",
       "    }\n",
       "\n",
       "    .dataframe tbody tr th {\n",
       "        vertical-align: top;\n",
       "    }\n",
       "\n",
       "    .dataframe thead th {\n",
       "        text-align: right;\n",
       "    }\n",
       "</style>\n",
       "<table border=\"1\" class=\"dataframe\">\n",
       "  <thead>\n",
       "    <tr style=\"text-align: right;\">\n",
       "      <th></th>\n",
       "      <th>과일이</th>\n",
       "      <th>길고</th>\n",
       "      <th>노란</th>\n",
       "      <th>먹고</th>\n",
       "      <th>바나나</th>\n",
       "      <th>사과</th>\n",
       "      <th>싶은</th>\n",
       "      <th>저는</th>\n",
       "      <th>좋아요</th>\n",
       "    </tr>\n",
       "  </thead>\n",
       "  <tbody>\n",
       "    <tr>\n",
       "      <th>문서1</th>\n",
       "      <td>0.00000</td>\n",
       "      <td>0.00000</td>\n",
       "      <td>0.00000</td>\n",
       "      <td>0.526405</td>\n",
       "      <td>0.00000</td>\n",
       "      <td>0.667679</td>\n",
       "      <td>0.526405</td>\n",
       "      <td>0.00000</td>\n",
       "      <td>0.00000</td>\n",
       "    </tr>\n",
       "    <tr>\n",
       "      <th>문서2</th>\n",
       "      <td>0.00000</td>\n",
       "      <td>0.00000</td>\n",
       "      <td>0.00000</td>\n",
       "      <td>0.577350</td>\n",
       "      <td>0.57735</td>\n",
       "      <td>0.000000</td>\n",
       "      <td>0.577350</td>\n",
       "      <td>0.00000</td>\n",
       "      <td>0.00000</td>\n",
       "    </tr>\n",
       "    <tr>\n",
       "      <th>문서3</th>\n",
       "      <td>0.00000</td>\n",
       "      <td>0.47212</td>\n",
       "      <td>0.47212</td>\n",
       "      <td>0.000000</td>\n",
       "      <td>0.74445</td>\n",
       "      <td>0.000000</td>\n",
       "      <td>0.000000</td>\n",
       "      <td>0.00000</td>\n",
       "      <td>0.00000</td>\n",
       "    </tr>\n",
       "    <tr>\n",
       "      <th>문서4</th>\n",
       "      <td>0.57735</td>\n",
       "      <td>0.00000</td>\n",
       "      <td>0.00000</td>\n",
       "      <td>0.000000</td>\n",
       "      <td>0.00000</td>\n",
       "      <td>0.000000</td>\n",
       "      <td>0.000000</td>\n",
       "      <td>0.57735</td>\n",
       "      <td>0.57735</td>\n",
       "    </tr>\n",
       "  </tbody>\n",
       "</table>\n",
       "</div>"
      ],
      "text/plain": [
       "         과일이       길고       노란        먹고      바나나        사과        싶은  \\\n",
       "문서1  0.00000  0.00000  0.00000  0.526405  0.00000  0.667679  0.526405   \n",
       "문서2  0.00000  0.00000  0.00000  0.577350  0.57735  0.000000  0.577350   \n",
       "문서3  0.00000  0.47212  0.47212  0.000000  0.74445  0.000000  0.000000   \n",
       "문서4  0.57735  0.00000  0.00000  0.000000  0.00000  0.000000  0.000000   \n",
       "\n",
       "          저는      좋아요  \n",
       "문서1  0.00000  0.00000  \n",
       "문서2  0.00000  0.00000  \n",
       "문서3  0.00000  0.00000  \n",
       "문서4  0.57735  0.57735  "
      ]
     },
     "execution_count": 12,
     "metadata": {},
     "output_type": "execute_result"
    }
   ],
   "source": [
    "tfidv_df = pd.DataFrame(tfvect.transform(docs).toarray(), columns = sorted(vect.vocabulary_))\n",
    "tfidv_df.index = ['문서1', '문서2', '문서3', '문서4']\n",
    "tfidv_df"
   ]
  },
  {
   "cell_type": "markdown",
   "metadata": {
    "papermill": {
     "duration": 0.008942,
     "end_time": "2023-09-01T01:12:42.053032",
     "exception": false,
     "start_time": "2023-09-01T01:12:42.044090",
     "status": "completed"
    },
    "tags": []
   },
   "source": [
    "----------------"
   ]
  },
  {
   "cell_type": "code",
   "execution_count": 13,
   "metadata": {
    "execution": {
     "iopub.execute_input": "2023-09-01T01:12:42.080757Z",
     "iopub.status.busy": "2023-09-01T01:12:42.079701Z",
     "iopub.status.idle": "2023-09-01T01:12:42.084657Z",
     "shell.execute_reply": "2023-09-01T01:12:42.084082Z",
     "shell.execute_reply.started": "2023-09-01T01:11:08.067077Z"
    },
    "papermill": {
     "duration": 0.02215,
     "end_time": "2023-09-01T01:12:42.084822",
     "exception": false,
     "start_time": "2023-09-01T01:12:42.062672",
     "status": "completed"
    },
    "tags": []
   },
   "outputs": [
    {
     "data": {
      "text/plain": [
       "array([[1.        , 0.60784064, 0.        , 0.        ],\n",
       "       [0.60784064, 1.        , 0.42980824, 0.        ],\n",
       "       [0.        , 0.42980824, 1.        , 0.        ],\n",
       "       [0.        , 0.        , 0.        , 1.        ]])"
      ]
     },
     "execution_count": 13,
     "metadata": {},
     "output_type": "execute_result"
    }
   ],
   "source": [
    "from sklearn.metrics.pairwise import cosine_similarity\n",
    "cosine_similarity(tfidv_df, tfidv_df)"
   ]
  },
  {
   "cell_type": "code",
   "execution_count": 14,
   "metadata": {
    "execution": {
     "iopub.execute_input": "2023-09-01T01:12:42.113087Z",
     "iopub.status.busy": "2023-09-01T01:12:42.111920Z",
     "iopub.status.idle": "2023-09-01T01:12:42.115384Z",
     "shell.execute_reply": "2023-09-01T01:12:42.114626Z",
     "shell.execute_reply.started": "2023-09-01T01:11:52.292239Z"
    },
    "papermill": {
     "duration": 0.021107,
     "end_time": "2023-09-01T01:12:42.115513",
     "exception": false,
     "start_time": "2023-09-01T01:12:42.094406",
     "status": "completed"
    },
    "tags": []
   },
   "outputs": [],
   "source": [
    "from sklearn.feature_extraction.text import TfidfVectorizer\n",
    "vect = TfidfVectorizer(max_features=4)\n",
    "tfvect = vect.fit(docs)"
   ]
  },
  {
   "cell_type": "code",
   "execution_count": 15,
   "metadata": {
    "execution": {
     "iopub.execute_input": "2023-09-01T01:12:42.151155Z",
     "iopub.status.busy": "2023-09-01T01:12:42.150006Z",
     "iopub.status.idle": "2023-09-01T01:12:42.156014Z",
     "shell.execute_reply": "2023-09-01T01:12:42.155349Z",
     "shell.execute_reply.started": "2023-09-01T01:11:53.892442Z"
    },
    "papermill": {
     "duration": 0.031189,
     "end_time": "2023-09-01T01:12:42.156149",
     "exception": false,
     "start_time": "2023-09-01T01:12:42.124960",
     "status": "completed"
    },
    "tags": []
   },
   "outputs": [
    {
     "data": {
      "text/html": [
       "<div>\n",
       "<style scoped>\n",
       "    .dataframe tbody tr th:only-of-type {\n",
       "        vertical-align: middle;\n",
       "    }\n",
       "\n",
       "    .dataframe tbody tr th {\n",
       "        vertical-align: top;\n",
       "    }\n",
       "\n",
       "    .dataframe thead th {\n",
       "        text-align: right;\n",
       "    }\n",
       "</style>\n",
       "<table border=\"1\" class=\"dataframe\">\n",
       "  <thead>\n",
       "    <tr style=\"text-align: right;\">\n",
       "      <th></th>\n",
       "      <th>과일이</th>\n",
       "      <th>먹고</th>\n",
       "      <th>바나나</th>\n",
       "      <th>싶은</th>\n",
       "    </tr>\n",
       "  </thead>\n",
       "  <tbody>\n",
       "    <tr>\n",
       "      <th>문서1</th>\n",
       "      <td>0.0</td>\n",
       "      <td>0.707107</td>\n",
       "      <td>0.00000</td>\n",
       "      <td>0.707107</td>\n",
       "    </tr>\n",
       "    <tr>\n",
       "      <th>문서2</th>\n",
       "      <td>0.0</td>\n",
       "      <td>0.577350</td>\n",
       "      <td>0.57735</td>\n",
       "      <td>0.577350</td>\n",
       "    </tr>\n",
       "    <tr>\n",
       "      <th>문서3</th>\n",
       "      <td>0.0</td>\n",
       "      <td>0.000000</td>\n",
       "      <td>1.00000</td>\n",
       "      <td>0.000000</td>\n",
       "    </tr>\n",
       "    <tr>\n",
       "      <th>문서4</th>\n",
       "      <td>1.0</td>\n",
       "      <td>0.000000</td>\n",
       "      <td>0.00000</td>\n",
       "      <td>0.000000</td>\n",
       "    </tr>\n",
       "  </tbody>\n",
       "</table>\n",
       "</div>"
      ],
      "text/plain": [
       "     과일이        먹고      바나나        싶은\n",
       "문서1  0.0  0.707107  0.00000  0.707107\n",
       "문서2  0.0  0.577350  0.57735  0.577350\n",
       "문서3  0.0  0.000000  1.00000  0.000000\n",
       "문서4  1.0  0.000000  0.00000  0.000000"
      ]
     },
     "execution_count": 15,
     "metadata": {},
     "output_type": "execute_result"
    }
   ],
   "source": [
    "tfidv_df = pd.DataFrame(tfvect.transform(docs).toarray(), columns = sorted(vect.vocabulary_))\n",
    "tfidv_df.index = ['문서1', '문서2', '문서3', '문서4']\n",
    "tfidv_df"
   ]
  },
  {
   "cell_type": "code",
   "execution_count": null,
   "metadata": {
    "papermill": {
     "duration": 0.009299,
     "end_time": "2023-09-01T01:12:42.175224",
     "exception": false,
     "start_time": "2023-09-01T01:12:42.165925",
     "status": "completed"
    },
    "tags": []
   },
   "outputs": [],
   "source": []
  }
 ],
 "kernelspec": {
  "display_name": "Python 3",
  "language": "python",
  "name": "python3"
 },
 "language_info": {
  "codemirror_mode": {
   "name": "ipython",
   "version": 3
  },
  "file_extension": ".py",
  "mimetype": "text/x-python",
  "name": "python",
  "nbconvert_exporter": "python",
  "pygments_lexer": "ipython3",
  "version": "3.6.4"
 },
 "metadata": {
  "kernelspec": {
   "display_name": "Python 3",
   "language": "python",
   "name": "python3"
  },
  "language_info": {
   "codemirror_mode": {
    "name": "ipython",
    "version": 3
   },
   "file_extension": ".py",
   "mimetype": "text/x-python",
   "name": "python",
   "nbconvert_exporter": "python",
   "pygments_lexer": "ipython3",
   "version": "3.7.6"
  },
  "papermill": {
   "duration": 8.045319,
   "end_time": "2023-09-01T01:12:43.197497",
   "environment_variables": {},
   "exception": null,
   "input_path": "__notebook__.ipynb",
   "output_path": "__notebook__.ipynb",
   "parameters": {},
   "start_time": "2023-09-01T01:12:35.152178",
   "version": "2.1.0"
  }
 },
 "nbformat": 4,
 "nbformat_minor": 4
}
